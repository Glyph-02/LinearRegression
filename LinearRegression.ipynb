{
 "cells": [
  {
   "cell_type": "code",
   "execution_count": 1,
   "metadata": {},
   "outputs": [],
   "source": [
    "import numpy as np\n",
    "import pandas as pd\n",
    "from sklearn import linear_model\n",
    "import matplotlib.pyplot as plt\n",
    "import statistics\n",
    "import math"
   ]
  },
  {
   "cell_type": "code",
   "execution_count": 2,
   "metadata": {},
   "outputs": [
    {
     "data": {
      "text/html": [
       "<div>\n",
       "<style scoped>\n",
       "    .dataframe tbody tr th:only-of-type {\n",
       "        vertical-align: middle;\n",
       "    }\n",
       "\n",
       "    .dataframe tbody tr th {\n",
       "        vertical-align: top;\n",
       "    }\n",
       "\n",
       "    .dataframe thead th {\n",
       "        text-align: right;\n",
       "    }\n",
       "</style>\n",
       "<table border=\"1\" class=\"dataframe\">\n",
       "  <thead>\n",
       "    <tr style=\"text-align: right;\">\n",
       "      <th></th>\n",
       "      <th>Residents</th>\n",
       "      <th>Books_expenses</th>\n",
       "    </tr>\n",
       "  </thead>\n",
       "  <tbody>\n",
       "    <tr>\n",
       "      <th>0</th>\n",
       "      <td>19</td>\n",
       "      <td>650</td>\n",
       "    </tr>\n",
       "    <tr>\n",
       "      <th>1</th>\n",
       "      <td>21</td>\n",
       "      <td>650</td>\n",
       "    </tr>\n",
       "    <tr>\n",
       "      <th>2</th>\n",
       "      <td>26</td>\n",
       "      <td>750</td>\n",
       "    </tr>\n",
       "    <tr>\n",
       "      <th>3</th>\n",
       "      <td>24</td>\n",
       "      <td>660</td>\n",
       "    </tr>\n",
       "    <tr>\n",
       "      <th>4</th>\n",
       "      <td>32</td>\n",
       "      <td>890</td>\n",
       "    </tr>\n",
       "    <tr>\n",
       "      <th>5</th>\n",
       "      <td>11</td>\n",
       "      <td>350</td>\n",
       "    </tr>\n",
       "    <tr>\n",
       "      <th>6</th>\n",
       "      <td>30</td>\n",
       "      <td>880</td>\n",
       "    </tr>\n",
       "    <tr>\n",
       "      <th>7</th>\n",
       "      <td>17</td>\n",
       "      <td>620</td>\n",
       "    </tr>\n",
       "    <tr>\n",
       "      <th>8</th>\n",
       "      <td>25</td>\n",
       "      <td>800</td>\n",
       "    </tr>\n",
       "    <tr>\n",
       "      <th>9</th>\n",
       "      <td>34</td>\n",
       "      <td>970</td>\n",
       "    </tr>\n",
       "    <tr>\n",
       "      <th>10</th>\n",
       "      <td>16</td>\n",
       "      <td>500</td>\n",
       "    </tr>\n",
       "    <tr>\n",
       "      <th>11</th>\n",
       "      <td>20</td>\n",
       "      <td>640</td>\n",
       "    </tr>\n",
       "    <tr>\n",
       "      <th>12</th>\n",
       "      <td>18</td>\n",
       "      <td>620</td>\n",
       "    </tr>\n",
       "    <tr>\n",
       "      <th>13</th>\n",
       "      <td>27</td>\n",
       "      <td>930</td>\n",
       "    </tr>\n",
       "    <tr>\n",
       "      <th>14</th>\n",
       "      <td>13</td>\n",
       "      <td>370</td>\n",
       "    </tr>\n",
       "    <tr>\n",
       "      <th>15</th>\n",
       "      <td>16</td>\n",
       "      <td>540</td>\n",
       "    </tr>\n",
       "    <tr>\n",
       "      <th>16</th>\n",
       "      <td>30</td>\n",
       "      <td>940</td>\n",
       "    </tr>\n",
       "    <tr>\n",
       "      <th>17</th>\n",
       "      <td>29</td>\n",
       "      <td>910</td>\n",
       "    </tr>\n",
       "    <tr>\n",
       "      <th>18</th>\n",
       "      <td>14</td>\n",
       "      <td>450</td>\n",
       "    </tr>\n",
       "    <tr>\n",
       "      <th>19</th>\n",
       "      <td>31</td>\n",
       "      <td>900</td>\n",
       "    </tr>\n",
       "    <tr>\n",
       "      <th>20</th>\n",
       "      <td>30</td>\n",
       "      <td>850</td>\n",
       "    </tr>\n",
       "    <tr>\n",
       "      <th>21</th>\n",
       "      <td>9</td>\n",
       "      <td>320</td>\n",
       "    </tr>\n",
       "    <tr>\n",
       "      <th>22</th>\n",
       "      <td>15</td>\n",
       "      <td>480</td>\n",
       "    </tr>\n",
       "    <tr>\n",
       "      <th>23</th>\n",
       "      <td>22</td>\n",
       "      <td>710</td>\n",
       "    </tr>\n",
       "    <tr>\n",
       "      <th>24</th>\n",
       "      <td>26</td>\n",
       "      <td>760</td>\n",
       "    </tr>\n",
       "  </tbody>\n",
       "</table>\n",
       "</div>"
      ],
      "text/plain": [
       "    Residents  Books_expenses\n",
       "0          19             650\n",
       "1          21             650\n",
       "2          26             750\n",
       "3          24             660\n",
       "4          32             890\n",
       "5          11             350\n",
       "6          30             880\n",
       "7          17             620\n",
       "8          25             800\n",
       "9          34             970\n",
       "10         16             500\n",
       "11         20             640\n",
       "12         18             620\n",
       "13         27             930\n",
       "14         13             370\n",
       "15         16             540\n",
       "16         30             940\n",
       "17         29             910\n",
       "18         14             450\n",
       "19         31             900\n",
       "20         30             850\n",
       "21          9             320\n",
       "22         15             480\n",
       "23         22             710\n",
       "24         26             760"
      ]
     },
     "execution_count": 2,
     "metadata": {},
     "output_type": "execute_result"
    }
   ],
   "source": [
    "dataframe = pd.read_csv(\"Linear_regression.csv\",\n",
    "                sep = ';',\n",
    "                engine = 'python')\n",
    "dataframe"
   ]
  },
  {
   "cell_type": "code",
   "execution_count": 3,
   "metadata": {},
   "outputs": [
    {
     "data": {
      "text/plain": [
       "<matplotlib.collections.PathCollection at 0xb446b94970>"
      ]
     },
     "execution_count": 3,
     "metadata": {},
     "output_type": "execute_result"
    },
    {
     "data": {
      "image/png": "[encoded data removed]",
      "text/plain": [
       "<Figure size 432x288 with 1 Axes>"
      ]
     },
     "metadata": {
      "needs_background": "light"
     },
     "output_type": "display_data"
    }
   ],
   "source": [
    "%matplotlib inline\n",
    "plt.xlabel('Number of residents [thousands]')\n",
    "plt.ylabel('Book expenses on city level [thousands]')\n",
    "plt.scatter(dataframe.Residents,dataframe.Books_expenses)"
   ]
  },
  {
   "cell_type": "code",
   "execution_count": 4,
   "metadata": {},
   "outputs": [
    {
     "data": {
      "text/plain": [
       "(0     19\n",
       " 1     21\n",
       " 2     26\n",
       " 3     24\n",
       " 4     32\n",
       " 5     11\n",
       " 6     30\n",
       " 7     17\n",
       " 8     25\n",
       " 9     34\n",
       " 10    16\n",
       " 11    20\n",
       " 12    18\n",
       " 13    27\n",
       " 14    13\n",
       " 15    16\n",
       " 16    30\n",
       " 17    29\n",
       " 18    14\n",
       " 19    31\n",
       " 20    30\n",
       " 21     9\n",
       " 22    15\n",
       " 23    22\n",
       " 24    26\n",
       " Name: Residents, dtype: int64,\n",
       " 0     650\n",
       " 1     650\n",
       " 2     750\n",
       " 3     660\n",
       " 4     890\n",
       " 5     350\n",
       " 6     880\n",
       " 7     620\n",
       " 8     800\n",
       " 9     970\n",
       " 10    500\n",
       " 11    640\n",
       " 12    620\n",
       " 13    930\n",
       " 14    370\n",
       " 15    540\n",
       " 16    940\n",
       " 17    910\n",
       " 18    450\n",
       " 19    900\n",
       " 20    850\n",
       " 21    320\n",
       " 22    480\n",
       " 23    710\n",
       " 24    760\n",
       " Name: Books_expenses, dtype: int64)"
      ]
     },
     "execution_count": 4,
     "metadata": {},
     "output_type": "execute_result"
    }
   ],
   "source": [
    "df1 = dataframe.drop('Books_expenses',axis='columns')\n",
    "x = df1.Residents\n",
    "df2 = dataframe.drop('Residents',axis='columns')\n",
    "y = df2.Books_expenses\n",
    "x,y"
   ]
  },
  {
   "cell_type": "code",
   "execution_count": 5,
   "metadata": {},
   "outputs": [
    {
     "data": {
      "text/plain": [
       "LinearRegression()"
      ]
     },
     "execution_count": 5,
     "metadata": {},
     "output_type": "execute_result"
    }
   ],
   "source": [
    "regression = linear_model.LinearRegression()\n",
    "regression.fit(df1, df2)"
   ]
  },
  {
   "cell_type": "code",
   "execution_count": 6,
   "metadata": {},
   "outputs": [
    {
     "data": {
      "text/plain": [
       "array([[26.76725522]])"
      ]
     },
     "execution_count": 6,
     "metadata": {},
     "output_type": "execute_result"
    }
   ],
   "source": [
    "regression.coef_"
   ]
  },
  {
   "cell_type": "code",
   "execution_count": 7,
   "metadata": {},
   "outputs": [
    {
     "data": {
      "text/plain": [
       "array([91.36693419])"
      ]
     },
     "execution_count": 7,
     "metadata": {},
     "output_type": "execute_result"
    }
   ],
   "source": [
    "regression.intercept_"
   ]
  },
  {
   "cell_type": "code",
   "execution_count": 8,
   "metadata": {},
   "outputs": [
    {
     "data": {
      "text/plain": [
       "array([[412.57399679]])"
      ]
     },
     "execution_count": 8,
     "metadata": {},
     "output_type": "execute_result"
    }
   ],
   "source": [
    "regression.predict([[12]])"
   ]
  },
  {
   "cell_type": "code",
   "execution_count": 9,
   "metadata": {},
   "outputs": [
    {
     "data": {
      "text/plain": [
       "[<matplotlib.lines.Line2D at 0xb446ef9160>]"
      ]
     },
     "execution_count": 9,
     "metadata": {},
     "output_type": "execute_result"
    },
    {
     "data": {
      "image/png": "[encoded data removed]",
      "text/plain": [
       "<Figure size 432x288 with 1 Axes>"
      ]
     },
     "metadata": {
      "needs_background": "light"
     },
     "output_type": "display_data"
    }
   ],
   "source": [
    "yhat = regression.predict(df1)\n",
    "plt.xlabel('Number of residents [thousands]')\n",
    "plt.ylabel('Book expenses on city level [thousands]')\n",
    "plt.scatter(dataframe.Residents,dataframe.Books_expenses)\n",
    "plt.plot(df1, yhat, color='red')"
   ]
  },
  {
   "cell_type": "code",
   "execution_count": 10,
   "metadata": {},
   "outputs": [
    {
     "name": "stdout",
     "output_type": "stream",
     "text": [
      "('Residual variance is equal to: 2261.6521739130435', 'Resudial deviation is equal to: 47.556830991068395') ('Coefficient of determination is equal to: 0.9448839731621388', 'Coefficent od nondetermination: 0.05511602683786121') coefficient of residual variation is equal to: 6.936527274076488\n"
     ]
    }
   ],
   "source": [
    "class model_fit:\n",
    "    def residual_variance (self):\n",
    "        yhat = []\n",
    "        k = len(y)\n",
    "        n = 2\n",
    "        for i in x:\n",
    "            yhat.append((int(np.round(regression.predict([[i]]),0))))\n",
    "        epsilon = np.sum(np.square(y - yhat))\n",
    "        variance = epsilon/(k-n)\n",
    "        self.deviation = math.sqrt(variance)\n",
    "        return (\"Residual variance is equal to: {0}\".format(variance), \n",
    "            \"Resudial deviation is equal to: {0}\".format(self.deviation))\n",
    "    def coefficient_of_determination (self):\n",
    "        ymean = sum(y)/len(y)\n",
    "        epsilon1 = 0 \n",
    "        epsilon2 = 0\n",
    "        for i in y,yhat:\n",
    "            epsilon1 = np.sum(np.square(yhat-ymean))\n",
    "            epsilon2 = np.sum(np.square(y-ymean))\n",
    "            coef = epsilon1/epsilon2\n",
    "            coef_of_nondetermination = 1 - coef\n",
    "        return (\"Coefficient of determination is equal to: {0}\".format(coef),\n",
    "                \"Coefficent od nondetermination: {0}\".format(coef_of_nondetermination))\n",
    "    def coefficient_of_residual_variation (self):\n",
    "        self.residual_variance()\n",
    "        ymean = sum(y)/len(y)\n",
    "        Ve = (self.deviation/ymean)*100\n",
    "        return (\"coefficient of residual variation is equal to: {0}\".format(Ve))\n",
    "mf = model_fit()\n",
    "print(mf.residual_variance(), mf.coefficient_of_determination (), mf.coefficient_of_residual_variation ())"
   ]
  },
  {
   "cell_type": "code",
   "execution_count": null,
   "metadata": {},
   "outputs": [],
   "source": []
  }
 ],
 "metadata": {
  "kernelspec": {
   "display_name": "Python 3",
   "language": "python",
   "name": "python3"
  },
  "language_info": {
   "codemirror_mode": {
    "name": "ipython",
    "version": 3
   },
   "file_extension": ".py",
   "mimetype": "text/x-python",
   "name": "python",
   "nbconvert_exporter": "python",
   "pygments_lexer": "ipython3",
   "version": "3.8.5"
  }
 },
 "nbformat": 4,
 "nbformat_minor": 4
}
